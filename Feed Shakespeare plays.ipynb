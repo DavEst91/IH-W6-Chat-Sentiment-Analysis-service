{
 "cells": [
  {
   "cell_type": "code",
   "execution_count": 1,
   "metadata": {},
   "outputs": [],
   "source": [
    "from pymongo import MongoClient\n",
    "from bson.json_util import dumps\n",
    "import pymongo\n",
    "import pandas as pd\n",
    "import requests\n",
    "\n",
    "mongodbURL = \"mongodb://localhost/Chat_Sentiment_Analysis_Service\"\n",
    "client = MongoClient(mongodbURL, connectTimeoutMS=2000,serverSelectionTimeoutMS=2000)\n",
    "db = client.get_database()"
   ]
  },
  {
   "cell_type": "markdown",
   "metadata": {},
   "source": [
    "We are going to use "
   ]
  },
  {
   "cell_type": "code",
   "execution_count": 2,
   "metadata": {},
   "outputs": [],
   "source": [
    "shakespeare=pd.read_csv(\"input/Shakespeare_data.csv\").drop(columns=[\"PlayerLinenumber\",\"ActSceneLine\",\"Dataline\"],axis=1).dropna()\n",
    "\n",
    "shakespeare[\"Play\"]=shakespeare[\"Play\"].apply(lambda x: x.replace(\" \",\"\"))\n",
    "shakespeare[\"Player\"]=shakespeare[\"Player\"].apply(lambda x: x.replace(\" \",\"\"))\n",
    "shakespeare[\"PlayerLine\"]=shakespeare[\"PlayerLine\"].apply(lambda x: x.replace(\" \",\"%20\"))\n",
    "\n",
    "\n",
    "\n",
    "shakespeare_plays=shakespeare[\"Play\"].unique()\n",
    "\n",
    "shakespeare_players=shakespeare[\"Player\"].unique()\n",
    "\n",
    "players_in_play=[{play:shakespeare[shakespeare[\"Play\"]==play][\"Player\"].unique()} for play in shakespeare_plays]"
   ]
  },
  {
   "cell_type": "markdown",
   "metadata": {},
   "source": [
    "Feeding users database"
   ]
  },
  {
   "cell_type": "code",
   "execution_count": 84,
   "metadata": {},
   "outputs": [],
   "source": [
    "for name in shakespeare_players:\n",
    "    requests.get(f\"http://127.0.0.1:4000/user/create?username={name}\")"
   ]
  },
  {
   "cell_type": "markdown",
   "metadata": {},
   "source": [
    "Creating conversations (plays)"
   ]
  },
  {
   "cell_type": "code",
   "execution_count": 85,
   "metadata": {},
   "outputs": [],
   "source": [
    "for play in shakespeare_plays:\n",
    "    requests.get(f\"http://127.0.0.1:4000/chat/create?conversation={play}\")"
   ]
  },
  {
   "cell_type": "markdown",
   "metadata": {},
   "source": [
    "Adding each character to its play"
   ]
  },
  {
   "cell_type": "code",
   "execution_count": 87,
   "metadata": {},
   "outputs": [],
   "source": [
    "for play in players_in_play:\n",
    "        for k,v in play.items():\n",
    "            for player in v:\n",
    "                requests.get(f\"http://127.0.0.1:4000/chat/{k}/adduser?username={player}\")"
   ]
  },
  {
   "cell_type": "markdown",
   "metadata": {},
   "source": [
    "Adding sentence of each character to its play"
   ]
  },
  {
   "cell_type": "code",
   "execution_count": null,
   "metadata": {},
   "outputs": [],
   "source": [
    "for i ib\n",
    "\n",
    "requests.get(f\"http://127.0.0.1:4000/chat/{choice(topics)}/addmessage?username={choice(users)}&message={mensaje}\")"
   ]
  },
  {
   "cell_type": "code",
   "execution_count": 9,
   "metadata": {},
   "outputs": [],
   "source": [
    "for index in shakespeare.index:\n",
    "    requests.get(f\"http://127.0.0.1:4000/chat/{shakespeare.loc[index]['Play']}/addmessage?username={shakespeare.loc[index]['Player']}&message={shakespeare.loc[index]['PlayerLine']}\")"
   ]
  },
  {
   "cell_type": "code",
   "execution_count": 8,
   "metadata": {},
   "outputs": [
    {
     "data": {
      "text/html": [
       "<div>\n",
       "<style scoped>\n",
       "    .dataframe tbody tr th:only-of-type {\n",
       "        vertical-align: middle;\n",
       "    }\n",
       "\n",
       "    .dataframe tbody tr th {\n",
       "        vertical-align: top;\n",
       "    }\n",
       "\n",
       "    .dataframe thead th {\n",
       "        text-align: right;\n",
       "    }\n",
       "</style>\n",
       "<table border=\"1\" class=\"dataframe\">\n",
       "  <thead>\n",
       "    <tr style=\"text-align: right;\">\n",
       "      <th></th>\n",
       "      <th>Play</th>\n",
       "      <th>Player</th>\n",
       "      <th>PlayerLine</th>\n",
       "    </tr>\n",
       "  </thead>\n",
       "  <tbody>\n",
       "    <tr>\n",
       "      <th>3</th>\n",
       "      <td>HenryIV</td>\n",
       "      <td>KINGHENRYIV</td>\n",
       "      <td>So%20shaken%20as%20we%20are,%20so%20wan%20with...</td>\n",
       "    </tr>\n",
       "    <tr>\n",
       "      <th>4</th>\n",
       "      <td>HenryIV</td>\n",
       "      <td>KINGHENRYIV</td>\n",
       "      <td>Find%20we%20a%20time%20for%20frighted%20peace%...</td>\n",
       "    </tr>\n",
       "    <tr>\n",
       "      <th>5</th>\n",
       "      <td>HenryIV</td>\n",
       "      <td>KINGHENRYIV</td>\n",
       "      <td>And%20breathe%20short-winded%20accents%20of%20...</td>\n",
       "    </tr>\n",
       "    <tr>\n",
       "      <th>6</th>\n",
       "      <td>HenryIV</td>\n",
       "      <td>KINGHENRYIV</td>\n",
       "      <td>To%20be%20commenced%20in%20strands%20afar%20re...</td>\n",
       "    </tr>\n",
       "    <tr>\n",
       "      <th>7</th>\n",
       "      <td>HenryIV</td>\n",
       "      <td>KINGHENRYIV</td>\n",
       "      <td>No%20more%20the%20thirsty%20entrance%20of%20th...</td>\n",
       "    </tr>\n",
       "    <tr>\n",
       "      <th>...</th>\n",
       "      <td>...</td>\n",
       "      <td>...</td>\n",
       "      <td>...</td>\n",
       "    </tr>\n",
       "    <tr>\n",
       "      <th>111391</th>\n",
       "      <td>AWintersTale</td>\n",
       "      <td>LEONTES</td>\n",
       "      <td>Lead%20us%20from%20hence,%20where%20we%20may%2...</td>\n",
       "    </tr>\n",
       "    <tr>\n",
       "      <th>111392</th>\n",
       "      <td>AWintersTale</td>\n",
       "      <td>LEONTES</td>\n",
       "      <td>Each%20one%20demand%20an%20answer%20to%20his%2...</td>\n",
       "    </tr>\n",
       "    <tr>\n",
       "      <th>111393</th>\n",
       "      <td>AWintersTale</td>\n",
       "      <td>LEONTES</td>\n",
       "      <td>Perform'd%20in%20this%20wide%20gap%20of%20time...</td>\n",
       "    </tr>\n",
       "    <tr>\n",
       "      <th>111394</th>\n",
       "      <td>AWintersTale</td>\n",
       "      <td>LEONTES</td>\n",
       "      <td>We%20were%20dissever'd:%20hastily%20lead%20away.</td>\n",
       "    </tr>\n",
       "    <tr>\n",
       "      <th>111395</th>\n",
       "      <td>AWintersTale</td>\n",
       "      <td>LEONTES</td>\n",
       "      <td>Exeunt</td>\n",
       "    </tr>\n",
       "  </tbody>\n",
       "</table>\n",
       "<p>111389 rows × 3 columns</p>\n",
       "</div>"
      ],
      "text/plain": [
       "                Play       Player  \\\n",
       "3            HenryIV  KINGHENRYIV   \n",
       "4            HenryIV  KINGHENRYIV   \n",
       "5            HenryIV  KINGHENRYIV   \n",
       "6            HenryIV  KINGHENRYIV   \n",
       "7            HenryIV  KINGHENRYIV   \n",
       "...              ...          ...   \n",
       "111391  AWintersTale      LEONTES   \n",
       "111392  AWintersTale      LEONTES   \n",
       "111393  AWintersTale      LEONTES   \n",
       "111394  AWintersTale      LEONTES   \n",
       "111395  AWintersTale      LEONTES   \n",
       "\n",
       "                                               PlayerLine  \n",
       "3       So%20shaken%20as%20we%20are,%20so%20wan%20with...  \n",
       "4       Find%20we%20a%20time%20for%20frighted%20peace%...  \n",
       "5       And%20breathe%20short-winded%20accents%20of%20...  \n",
       "6       To%20be%20commenced%20in%20strands%20afar%20re...  \n",
       "7       No%20more%20the%20thirsty%20entrance%20of%20th...  \n",
       "...                                                   ...  \n",
       "111391  Lead%20us%20from%20hence,%20where%20we%20may%2...  \n",
       "111392  Each%20one%20demand%20an%20answer%20to%20his%2...  \n",
       "111393  Perform'd%20in%20this%20wide%20gap%20of%20time...  \n",
       "111394   We%20were%20dissever'd:%20hastily%20lead%20away.  \n",
       "111395                                             Exeunt  \n",
       "\n",
       "[111389 rows x 3 columns]"
      ]
     },
     "execution_count": 8,
     "metadata": {},
     "output_type": "execute_result"
    }
   ],
   "source": [
    "shakespeare"
   ]
  },
  {
   "cell_type": "code",
   "execution_count": null,
   "metadata": {},
   "outputs": [],
   "source": []
  }
 ],
 "metadata": {
  "kernelspec": {
   "display_name": "Python 3",
   "language": "python",
   "name": "python3"
  },
  "language_info": {
   "codemirror_mode": {
    "name": "ipython",
    "version": 3
   },
   "file_extension": ".py",
   "mimetype": "text/x-python",
   "name": "python",
   "nbconvert_exporter": "python",
   "pygments_lexer": "ipython3",
   "version": "3.6.9"
  }
 },
 "nbformat": 4,
 "nbformat_minor": 2
}
