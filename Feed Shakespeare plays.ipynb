{
 "cells": [
  {
   "cell_type": "code",
   "execution_count": 12,
   "metadata": {},
   "outputs": [],
   "source": [
    "from pymongo import MongoClient\n",
    "from bson.json_util import dumps\n",
    "import pymongo\n",
    "import pandas as pd\n",
    "import requests\n",
    "\n",
    "mongodbURL = \"mongodb://localhost/Chat_Sentiment_Analysis_Service\"\n",
    "client = MongoClient(mongodbURL, connectTimeoutMS=2000,serverSelectionTimeoutMS=2000)\n",
    "db = client.get_database()"
   ]
  },
  {
   "cell_type": "markdown",
   "metadata": {},
   "source": [
    "We are going to use "
   ]
  },
  {
   "cell_type": "code",
   "execution_count": 13,
   "metadata": {},
   "outputs": [],
   "source": [
    "shakespeare=pd.read_csv(\"input/Shakespeare_data.csv\").drop(columns=[\"PlayerLinenumber\",\"ActSceneLine\",\"Dataline\"],axis=1).dropna()\n",
    "\n",
    "shakespeare[\"Play\"]=shakespeare[\"Play\"].apply(lambda x: x.replace(\" \",\"\"))\n",
    "shakespeare[\"Player\"]=shakespeare[\"Player\"].apply(lambda x: x.replace(\" \",\"\"))\n",
    "shakespeare[\"PlayerLine\"]=shakespeare[\"PlayerLine\"].apply(lambda x: x.replace(\" \",\"%20\"))\n",
    "\n",
    "\n",
    "\n",
    "shakespeare_plays=shakespeare[\"Play\"].unique()\n",
    "\n",
    "shakespeare_players=shakespeare[\"Player\"].unique()\n",
    "\n",
    "players_in_play=[{play:shakespeare[shakespeare[\"Play\"]==play][\"Player\"].unique()} for play in shakespeare_plays]"
   ]
  },
  {
   "cell_type": "markdown",
   "metadata": {},
   "source": [
    "Feeding users database"
   ]
  },
  {
   "cell_type": "code",
   "execution_count": 14,
   "metadata": {},
   "outputs": [],
   "source": [
    "for name in shakespeare_players:\n",
    "    requests.get(f\"http://127.0.0.1:4000/user/create?username={name}\").text"
   ]
  },
  {
   "cell_type": "markdown",
   "metadata": {},
   "source": [
    "Creating conversations (plays)"
   ]
  },
  {
   "cell_type": "code",
   "execution_count": 15,
   "metadata": {},
   "outputs": [],
   "source": [
    "for play in shakespeare_plays:\n",
    "    requests.get(f\"http://127.0.0.1:4000/chat/create?conversation={play}\").text"
   ]
  },
  {
   "cell_type": "markdown",
   "metadata": {},
   "source": [
    "Adding each character to its play"
   ]
  },
  {
   "cell_type": "code",
   "execution_count": 17,
   "metadata": {},
   "outputs": [],
   "source": [
    "for play in players_in_play:\n",
    "        for k,v in play.items():\n",
    "            for player in v:\n",
    "                requests.get(f\"http://127.0.0.1:4000/chat/{k}/adduser?username={player}\")"
   ]
  },
  {
   "cell_type": "markdown",
   "metadata": {},
   "source": [
    "Adding sentence of each character to its play"
   ]
  },
  {
   "cell_type": "code",
   "execution_count": 18,
   "metadata": {},
   "outputs": [],
   "source": [
    "for index in shakespeare.index:\n",
    "    requests.get(f\"http://127.0.0.1:4000/chat/{shakespeare.loc[index]['Play']}/addmessage?username={shakespeare.loc[index]['Player']}&message={shakespeare.loc[index]['PlayerLine']}\")"
   ]
  },
  {
   "cell_type": "markdown",
   "metadata": {},
   "source": [
    "With the code beloew you can clear the database just in case something is corrupted."
   ]
  },
  {
   "cell_type": "markdown",
   "metadata": {},
   "source": [
    "db.messages.remove({})\n",
    "db.users.remove({})\n",
    "db.conversations.remove({})"
   ]
  },
  {
   "cell_type": "code",
   "execution_count": 4,
   "metadata": {},
   "outputs": [
    {
     "name": "stderr",
     "output_type": "stream",
     "text": [
      "/usr/lib/python3/dist-packages/ipykernel_launcher.py:1: DeprecationWarning: remove is deprecated. Use delete_one or delete_many instead.\n",
      "  \"\"\"Entry point for launching an IPython kernel.\n",
      "/usr/lib/python3/dist-packages/ipykernel_launcher.py:2: DeprecationWarning: remove is deprecated. Use delete_one or delete_many instead.\n",
      "  \n",
      "/usr/lib/python3/dist-packages/ipykernel_launcher.py:3: DeprecationWarning: remove is deprecated. Use delete_one or delete_many instead.\n",
      "  This is separate from the ipykernel package so we can avoid doing imports until\n"
     ]
    },
    {
     "data": {
      "text/plain": [
       "{'n': 38, 'ok': 1.0}"
      ]
     },
     "execution_count": 4,
     "metadata": {},
     "output_type": "execute_result"
    }
   ],
   "source": [
    "db.messages.remove({})\n",
    "db.users.remove({})\n",
    "db.conversations.remove({})"
   ]
  },
  {
   "cell_type": "code",
   "execution_count": null,
   "metadata": {},
   "outputs": [],
   "source": []
  }
 ],
 "metadata": {
  "kernelspec": {
   "display_name": "Python 3",
   "language": "python",
   "name": "python3"
  },
  "language_info": {
   "codemirror_mode": {
    "name": "ipython",
    "version": 3
   },
   "file_extension": ".py",
   "mimetype": "text/x-python",
   "name": "python",
   "nbconvert_exporter": "python",
   "pygments_lexer": "ipython3",
   "version": "3.6.9"
  }
 },
 "nbformat": 4,
 "nbformat_minor": 2
}
