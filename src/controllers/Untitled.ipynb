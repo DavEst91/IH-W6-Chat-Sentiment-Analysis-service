{
 "cells": [
  {
   "cell_type": "code",
   "execution_count": 1,
   "metadata": {},
   "outputs": [
    {
     "name": "stderr",
     "output_type": "stream",
     "text": [
      "[nltk_data] Downloading package vader_lexicon to\n",
      "[nltk_data]     /home/david/nltk_data...\n",
      "[nltk_data]   Package vader_lexicon is already up-to-date!\n"
     ]
    },
    {
     "data": {
      "text/plain": [
       "True"
      ]
     },
     "execution_count": 1,
     "metadata": {},
     "output_type": "execute_result"
    }
   ],
   "source": [
    "from pymongo import MongoClient\n",
    "from bson.json_util import dumps\n",
    "import pymongo\n",
    "import pandas as pd\n",
    "import requests\n",
    "import nltk\n",
    "mongodbURL = \"mongodb://localhost/Chat_Sentiment_Analysis_Service\"\n",
    "client = MongoClient(mongodbURL, connectTimeoutMS=2000,serverSelectionTimeoutMS=2000)\n",
    "db = client.get_database()\n",
    "\n",
    "import nltk\n",
    "from nltk.sentiment.vader import SentimentIntensityAnalyzer\n",
    "nltk.download(\"vader_lexicon\")"
   ]
  },
  {
   "cell_type": "code",
   "execution_count": 2,
   "metadata": {},
   "outputs": [],
   "source": [
    "def value_conversation(conversation):\n",
    "    sia = SentimentIntensityAnalyzer()\n",
    "    valorations=pd.DataFrame(columns=[\"neg\",\"neu\",\"pos\",\"compound\"])\n",
    "    sentences=requests.get(f\"http://127.0.0.1:4000/chat/{conversation}/list\").json()\n",
    "    for sentence in sentences:\n",
    "        scores=sia.polarity_scores(list(sentence.values())[0])\n",
    "        scores_df=pd.DataFrame(data=[scores.values()],columns=[\"neg\",\"neu\",\"pos\",\"compound\"])\n",
    "        valorations=pd.concat([valorations,scores_df])\n",
    "    return(valorations.mean().to_json())"
   ]
  },
  {
   "cell_type": "code",
   "execution_count": 3,
   "metadata": {},
   "outputs": [],
   "source": [
    "def value_user(user):\n",
    "    messages_id=db[\"users\"].find_one({\"username\":user},{\"messages\":1})\n",
    "    messages=[db.messages.find_one({\"_id\":ident},{\"message\":1})[\"message\"] for ident in messages_id[\"messages\"]]\n",
    "    sia = SentimentIntensityAnalyzer()\n",
    "    valorations=pd.DataFrame(columns=[\"neg\",\"neu\",\"pos\",\"compound\"])\n",
    "    for sentence in messages:\n",
    "        scores=sia.polarity_scores(sentence)\n",
    "        scores_df=pd.DataFrame(data=[scores.values()],columns=[\"neg\",\"neu\",\"pos\",\"compound\"])\n",
    "        valorations=pd.concat([valorations,scores_df])\n",
    "    return(valorations.mean())"
   ]
  },
  {
   "cell_type": "code",
   "execution_count": 4,
   "metadata": {},
   "outputs": [],
   "source": [
    "def create_df_with_puntuations():\n",
    "    users=[user[\"username\"] for user in list(db.users.find({},{\"username\":1}))]\n",
    "    valorations=pd.DataFrame(columns=[\"neg\",\"neu\",\"pos\",\"compound\"])\n",
    "    for user in users:\n",
    "        valoration=pd.DataFrame(data=[value_user(user)],index=[user])\n",
    "        valorations=pd.concat([valorations,valoration])\n",
    "    valorations.to_csv(\"valorations.csv\")\n",
    "    return (valorations)"
   ]
  },
  {
   "cell_type": "code",
   "execution_count": 8,
   "metadata": {},
   "outputs": [
    {
     "data": {
      "text/html": [
       "<div>\n",
       "<style scoped>\n",
       "    .dataframe tbody tr th:only-of-type {\n",
       "        vertical-align: middle;\n",
       "    }\n",
       "\n",
       "    .dataframe tbody tr th {\n",
       "        vertical-align: top;\n",
       "    }\n",
       "\n",
       "    .dataframe thead th {\n",
       "        text-align: right;\n",
       "    }\n",
       "</style>\n",
       "<table border=\"1\" class=\"dataframe\">\n",
       "  <thead>\n",
       "    <tr style=\"text-align: right;\">\n",
       "      <th></th>\n",
       "      <th>Unnamed: 0</th>\n",
       "      <th>neg</th>\n",
       "      <th>neu</th>\n",
       "      <th>pos</th>\n",
       "      <th>compound</th>\n",
       "    </tr>\n",
       "  </thead>\n",
       "  <tbody>\n",
       "    <tr>\n",
       "      <th>0</th>\n",
       "      <td>kinghenryiv</td>\n",
       "      <td>0.082659</td>\n",
       "      <td>0.825774</td>\n",
       "      <td>0.091573</td>\n",
       "      <td>0.019065</td>\n",
       "    </tr>\n",
       "    <tr>\n",
       "      <th>1</th>\n",
       "      <td>westmoreland</td>\n",
       "      <td>0.089622</td>\n",
       "      <td>0.825341</td>\n",
       "      <td>0.085037</td>\n",
       "      <td>-0.017067</td>\n",
       "    </tr>\n",
       "    <tr>\n",
       "      <th>2</th>\n",
       "      <td>falstaff</td>\n",
       "      <td>0.079114</td>\n",
       "      <td>0.824924</td>\n",
       "      <td>0.095964</td>\n",
       "      <td>0.019717</td>\n",
       "    </tr>\n",
       "    <tr>\n",
       "      <th>3</th>\n",
       "      <td>princehenry</td>\n",
       "      <td>0.081523</td>\n",
       "      <td>0.815655</td>\n",
       "      <td>0.102832</td>\n",
       "      <td>0.028733</td>\n",
       "    </tr>\n",
       "    <tr>\n",
       "      <th>4</th>\n",
       "      <td>poins</td>\n",
       "      <td>0.077795</td>\n",
       "      <td>0.875977</td>\n",
       "      <td>0.046239</td>\n",
       "      <td>-0.012797</td>\n",
       "    </tr>\n",
       "    <tr>\n",
       "      <th>...</th>\n",
       "      <td>...</td>\n",
       "      <td>...</td>\n",
       "      <td>...</td>\n",
       "      <td>...</td>\n",
       "      <td>...</td>\n",
       "    </tr>\n",
       "    <tr>\n",
       "      <th>915</th>\n",
       "      <td>florizel</td>\n",
       "      <td>0.050370</td>\n",
       "      <td>0.833216</td>\n",
       "      <td>0.116423</td>\n",
       "      <td>0.079198</td>\n",
       "    </tr>\n",
       "    <tr>\n",
       "      <th>916</th>\n",
       "      <td>perdita</td>\n",
       "      <td>0.063821</td>\n",
       "      <td>0.814134</td>\n",
       "      <td>0.122052</td>\n",
       "      <td>0.074671</td>\n",
       "    </tr>\n",
       "    <tr>\n",
       "      <th>917</th>\n",
       "      <td>dorcas</td>\n",
       "      <td>0.048917</td>\n",
       "      <td>0.794917</td>\n",
       "      <td>0.156167</td>\n",
       "      <td>0.124775</td>\n",
       "    </tr>\n",
       "    <tr>\n",
       "      <th>918</th>\n",
       "      <td>mopsa</td>\n",
       "      <td>0.012600</td>\n",
       "      <td>0.785150</td>\n",
       "      <td>0.202250</td>\n",
       "      <td>0.214050</td>\n",
       "    </tr>\n",
       "    <tr>\n",
       "      <th>919</th>\n",
       "      <td>shepard</td>\n",
       "      <td>0.000000</td>\n",
       "      <td>1.000000</td>\n",
       "      <td>0.000000</td>\n",
       "      <td>0.000000</td>\n",
       "    </tr>\n",
       "  </tbody>\n",
       "</table>\n",
       "<p>920 rows × 5 columns</p>\n",
       "</div>"
      ],
      "text/plain": [
       "       Unnamed: 0       neg       neu       pos  compound\n",
       "0     kinghenryiv  0.082659  0.825774  0.091573  0.019065\n",
       "1    westmoreland  0.089622  0.825341  0.085037 -0.017067\n",
       "2        falstaff  0.079114  0.824924  0.095964  0.019717\n",
       "3     princehenry  0.081523  0.815655  0.102832  0.028733\n",
       "4           poins  0.077795  0.875977  0.046239 -0.012797\n",
       "..            ...       ...       ...       ...       ...\n",
       "915      florizel  0.050370  0.833216  0.116423  0.079198\n",
       "916       perdita  0.063821  0.814134  0.122052  0.074671\n",
       "917        dorcas  0.048917  0.794917  0.156167  0.124775\n",
       "918         mopsa  0.012600  0.785150  0.202250  0.214050\n",
       "919       shepard  0.000000  1.000000  0.000000  0.000000\n",
       "\n",
       "[920 rows x 5 columns]"
      ]
     },
     "execution_count": 8,
     "metadata": {},
     "output_type": "execute_result"
    }
   ],
   "source": [
    "puntuations=pd.read_csv(\"../../output/valorations.csv\")"
   ]
  },
  {
   "cell_type": "code",
   "execution_count": 49,
   "metadata": {},
   "outputs": [],
   "source": []
  },
  {
   "cell_type": "code",
   "execution_count": 52,
   "metadata": {},
   "outputs": [
    {
     "data": {
      "text/plain": [
       "{'closest_users': 'hamlet , curtis , thaliard'}"
      ]
     },
     "execution_count": 52,
     "metadata": {},
     "output_type": "execute_result"
    }
   ],
   "source": [
    "find_closest_users(\"titania\")"
   ]
  },
  {
   "cell_type": "code",
   "execution_count": null,
   "metadata": {},
   "outputs": [],
   "source": []
  }
 ],
 "metadata": {
  "kernelspec": {
   "display_name": "Python 3",
   "language": "python",
   "name": "python3"
  },
  "language_info": {
   "codemirror_mode": {
    "name": "ipython",
    "version": 3
   },
   "file_extension": ".py",
   "mimetype": "text/x-python",
   "name": "python",
   "nbconvert_exporter": "python",
   "pygments_lexer": "ipython3",
   "version": "3.6.9"
  }
 },
 "nbformat": 4,
 "nbformat_minor": 2
}
