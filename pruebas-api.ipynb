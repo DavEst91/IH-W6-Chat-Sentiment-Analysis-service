{
 "cells": [
  {
   "cell_type": "code",
   "execution_count": 1,
   "metadata": {},
   "outputs": [],
   "source": [
    "from pymongo import MongoClient\n",
    "from bson.json_util import dumps\n",
    "import pymongo\n",
    "import pandas as pd\n",
    "\n",
    "mongodbURL = \"mongodb://localhost/Chat_Sentiment_Analysis_Service\"\n",
    "client = MongoClient(mongodbURL, connectTimeoutMS=2000,serverSelectionTimeoutMS=2000)\n",
    "db = client.get_database()"
   ]
  },
  {
   "cell_type": "code",
   "execution_count": 2,
   "metadata": {},
   "outputs": [],
   "source": [
    "import requests\n",
    "from random import choice"
   ]
  },
  {
   "cell_type": "code",
   "execution_count": 7,
   "metadata": {},
   "outputs": [],
   "source": [
    "users=[\"paco\",\"pepe\",\"rosa\",\"arturo\",\"juan\",\"alvaro\",\"quike\",\"carlos\",\"david\",\"julian\",\"luisa\",\"carlos\",\"alberto\"]\n",
    "\n",
    "for name in users:\n",
    "    requests.get(f\"http://127.0.0.1:4000/user/create?username={name}\")"
   ]
  },
  {
   "cell_type": "code",
   "execution_count": 124,
   "metadata": {},
   "outputs": [],
   "source": [
    "topics=[\"politica\",\"cocina\",\"actualidad\",\"coronavirus\",\"geografia\",\"ciencia\"]\n",
    "\n",
    "for topic in topics:\n",
    "    requests.get(f\"http://127.0.0.1:4000/chat/create?conversation={topic}\")\n",
    "\n",
    "for i in range(40):\n",
    "    requests.get(f\"http://127.0.0.1:4000/chat/{choice(topics)}/adduser?username={choice(users)}\")"
   ]
  },
  {
   "cell_type": "code",
   "execution_count": 120,
   "metadata": {
    "scrolled": false
   },
   "outputs": [],
   "source": [
    "mensajes=[\"hola buenas\",\"que tal estas?\",\"me llamo margarito\",\"yo me llamo ralph\",\"tu te llamas lucia\",\"eres frances?\",\"me gusta el chocolate\",\"creo que tengo un moco\",\"patata\",\"potaaaaatoooo\",\"solo por 5.90 al mes\",\"no me dejan rebajarlo mas\",\"pero de que vas\",\"comando aguacate\"]\n",
    "\n",
    "for i in range(100):\n",
    "    mensaje=choice(mensajes).replace(\" \",\"%20\")\n",
    "    res=requests.get(f\"http://127.0.0.1:4000/chat/{choice(topics)}/addmessage?username={choice(users)}&message={mensaje}\")\n",
    "    "
   ]
  },
  {
   "cell_type": "code",
   "execution_count": 116,
   "metadata": {
    "scrolled": true
   },
   "outputs": [
    {
     "name": "stdout",
     "output_type": "stream",
     "text": [
      "[\"{carlos:tu te llamas clara}\", \"{luisa:patata}\", \"{paco:eres frances?}\", \"{arturo:no me dejan rebajarlo mas}\", \"{luisa:hola buenas}\", \"{carlos:hola buenas}\", \"{luisa:me llamo margarito}\", \"{carlos:me gusta el chocolate}\", \"{carlos:patata}\", \"{arturo:patata}\", \"{quike:comando aguacate}\", \"{luisa:pero de que vas}\", \"{quike:patata}\", \"{rosa:que tal estas?}\", \"{rosa:creo que tengo un moco}\", \"{carlos:patata}\", \"{luisa:yo me llamo ralph}\", \"{carlos:patata}\", \"{paco:potaaaaatoooo}\", \"{arturo:comando aguacate}\", \"{rosa:creo que tengo un moco}\", \"{juan:solo por 5.90 al mes}\", \"{quike:potaaaaatoooo}\", \"{quike:creo que tengo un moco}\", \"{quike:comando aguacate}\", \"{rosa:solo por 5.90 al mes}\", \"{juan:me gusta el chocolate}\", \"{quike:potaaaaatoooo}\", \"{carlos:yo me llamo ralph}\", \"{rosa:potaaaaatoooo}\", \"{quike:comando aguacate}\", \"{juan:hola buenas}\", \"{arturo:pero de que vas}\"]\n",
      "[\"{rosa:eres frances?}\", \"{luisa:patata}\", \"{julian:hola buenas}\", \"{carlos:me llamo margarito}\", \"{carlos:me gusta el chocolate}\", \"{carlos:tu te llamas clara}\", \"{carlos:me gusta el chocolate}\", \"{david:solo por 5.90 al mes}\", \"{alvaro:tu te llamas clara}\", \"{paco:comando aguacate}\", \"{carlos:yo me llamo ralph}\", \"{rosa:no me dejan rebajarlo mas}\", \"{carlos:creo que tengo un moco}\", \"{david:hola buenas}\", \"{paco:creo que tengo un moco}\", \"{paco:solo por 5.90 al mes}\", \"{carlos:solo por 5.90 al mes}\", \"{luisa:tu te llamas clara}\", \"{paco:no me dejan rebajarlo mas}\", \"{pepe:creo que tengo un moco}\", \"{carlos:creo que tengo un moco}\", \"{david:creo que tengo un moco}\", \"{carlos:creo que tengo un moco}\", \"{carlos:creo que tengo un moco}\", \"{carlos:no me dejan rebajarlo mas}\", \"{david:potaaaaatoooo}\"]\n",
      "[\"{arturo:pero de que vas}\", \"{luisa:patata}\", \"{luisa:no me dejan rebajarlo mas}\", \"{arturo:que tal estas?}\", \"{luisa:potaaaaatoooo}\", \"{arturo:hola buenas}\", \"{luisa:comando aguacate}\", \"{arturo:eres frances?}\", \"{pepe:yo me llamo ralph}\", \"{luisa:potaaaaatoooo}\"]\n",
      "[\"{arturo:comando aguacate}\", \"{carlos:patata}\", \"{carlos:eres frances?}\", \"{carlos:tu te llamas clara}\", \"{paco:pero de que vas}\", \"{carlos:pero de que vas}\", \"{carlos:yo me llamo ralph}\", \"{paco:hola buenas}\", \"{paco:eres frances?}\", \"{luisa:eres frances?}\", \"{luisa:pero de que vas}\", \"{arturo:tu te llamas clara}\"]\n",
      "[\"{carlos:patata}\", \"{carlos:que tal estas?}\", \"{carlos:tu te llamas clara}\", \"{paco:pero de que vas}\", \"{carlos:que tal estas?}\", \"{carlos:tu te llamas clara}\", \"{juan:hola buenas}\", \"{juan:yo me llamo ralph}\"]\n",
      "[\"{paco:me gusta el chocolate}\", \"{rosa:yo me llamo ralph}\", \"{rosa:solo por 5.90 al mes}\", \"{alvaro:eres frances?}\", \"{pepe:patata}\", \"{paco:potaaaaatoooo}\", \"{pepe:tu te llamas clara}\", \"{paco:patata}\", \"{paco:patata}\", \"{paco:comando aguacate}\"]\n"
     ]
    }
   ],
   "source": [
    "for topic in topics:\n",
    "    a=requests.get(f\"http://127.0.0.1:4000/chat/{topic}/list\").text\n",
    "    print(a)\n"
   ]
  },
  {
   "cell_type": "code",
   "execution_count": null,
   "metadata": {},
   "outputs": [],
   "source": []
  }
 ],
 "metadata": {
  "kernelspec": {
   "display_name": "Python 3",
   "language": "python",
   "name": "python3"
  },
  "language_info": {
   "codemirror_mode": {
    "name": "ipython",
    "version": 3
   },
   "file_extension": ".py",
   "mimetype": "text/x-python",
   "name": "python",
   "nbconvert_exporter": "python",
   "pygments_lexer": "ipython3",
   "version": "3.6.9"
  }
 },
 "nbformat": 4,
 "nbformat_minor": 2
}
