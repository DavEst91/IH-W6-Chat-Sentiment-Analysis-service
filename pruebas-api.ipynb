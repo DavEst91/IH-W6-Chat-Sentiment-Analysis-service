{
 "cells": [
  {
   "cell_type": "code",
   "execution_count": 2,
   "metadata": {},
   "outputs": [],
   "source": [
    "from pymongo import MongoClient\n",
    "from bson.json_util import dumps\n",
    "import pymongo\n",
    "import pandas as pd\n",
    "\n",
    "mongodbURL = \"mongodb://localhost/Chat_Sentiment_Analysis_Service\"\n",
    "client = MongoClient(mongodbURL, connectTimeoutMS=2000,serverSelectionTimeoutMS=2000)\n",
    "db = client.get_database()"
   ]
  },
  {
   "cell_type": "code",
   "execution_count": 3,
   "metadata": {},
   "outputs": [],
   "source": [
    "import requests\n",
    "from random import choice"
   ]
  },
  {
   "cell_type": "code",
   "execution_count": 4,
   "metadata": {},
   "outputs": [],
   "source": [
    "users=[\"paco\",\"pepe\",\"rosa\",\"arturo\",\"juan\",\"alvaro\",\"quike\",\"carlos\",\"david\",\"julian\",\"luisa\",\"carlos\",\"alberto\"]\n",
    "\n",
    "for name in users:\n",
    "    requests.get(f\"http://127.0.0.1:4000/user/create?username={name}\")"
   ]
  },
  {
   "cell_type": "code",
   "execution_count": 5,
   "metadata": {},
   "outputs": [],
   "source": [
    "topics=[\"politica\",\"cocina\",\"actualidad\",\"coronavirus\",\"geografia\",\"ciencia\"]\n",
    "\n",
    "for topic in topics:\n",
    "    requests.get(f\"http://127.0.0.1:4000/chat/create?conversation={topic}\")\n",
    "\n",
    "for i in range(40):\n",
    "    requests.get(f\"http://127.0.0.1:4000/chat/{choice(topics)}/adduser?username={choice(users)}\")"
   ]
  },
  {
   "cell_type": "code",
   "execution_count": 7,
   "metadata": {
    "scrolled": false
   },
   "outputs": [],
   "source": [
    "mensajes=[\"hola buenas\",\"que tal estas?\",\"me llamo margarito\",\"yo me llamo ralph\",\"tu te llamas lucia\",\"eres frances?\",\"me gusta el chocolate\",\"creo que tengo un moco\",\"patata\",\"potaaaaatoooo\",\"solo por 5.90 al mes\",\"no me dejan rebajarlo mas\",\"pero de que vas\",\"comando aguacate\"]\n",
    "\n",
    "for i in range(100):\n",
    "    mensaje=choice(mensajes).replace(\" \",\"%20\")\n",
    "    res=requests.get(f\"http://127.0.0.1:4000/chat/{choice(topics)}/addmessage?username={choice(users)}&message={mensaje}\")\n",
    "    "
   ]
  },
  {
   "cell_type": "code",
   "execution_count": 8,
   "metadata": {
    "scrolled": true
   },
   "outputs": [
    {
     "name": "stdout",
     "output_type": "stream",
     "text": [
      "[{\"arturo\": \"eres frances?\"}, {\"arturo\": \"patata\"}, {\"arturo\": \"no me dejan rebajarlo mas\"}]\n",
      "[{\"alvaro\": \"me llamo margarito\"}, {\"julian\": \"creo que tengo un moco\"}, {\"rosa\": \"solo por 5.90 al mes\"}, {\"alberto\": \"comando aguacate\"}, {\"juan\": \"yo me llamo ralph\"}, {\"quike\": \"hola buenas\"}, {\"juan\": \"eres frances?\"}]\n",
      "[{\"pepe\": \"que tal estas?\"}, {\"rosa\": \"comando aguacate\"}, {\"david\": \"creo que tengo un moco\"}, {\"arturo\": \"comando aguacate\"}, {\"alvaro\": \"no me dejan rebajarlo mas\"}, {\"julian\": \"tu te llamas lucia\"}, {\"david\": \"me llamo margarito\"}, {\"alvaro\": \"comando aguacate\"}, {\"arturo\": \"potaaaaatoooo\"}]\n",
      "[{\"alvaro\": \"hola buenas\"}, {\"carlos\": \"que tal estas?\"}, {\"alvaro\": \"hola buenas\"}, {\"carlos\": \"yo me llamo ralph\"}, {\"alvaro\": \"me llamo margarito\"}, {\"luisa\": \"tu te llamas lucia\"}, {\"luisa\": \"que tal estas?\"}, {\"julian\": \"que tal estas?\"}, {\"julian\": \"comando aguacate\"}, {\"carlos\": \"que tal estas?\"}, {\"paco\": \"comando aguacate\"}, {\"carlos\": \"que tal estas?\"}, {\"carlos\": \"hola buenas\"}]\n",
      "[{\"juan\": \"creo que tengo un moco\"}, {\"juan\": \"patata\"}, {\"carlos\": \"potaaaaatoooo\"}, {\"carlos\": \"me llamo margarito\"}, {\"david\": \"hola buenas\"}, {\"carlos\": \"creo que tengo un moco\"}, {\"quike\": \"que tal estas?\"}, {\"alvaro\": \"no me dejan rebajarlo mas\"}, {\"david\": \"me llamo margarito\"}, {\"carlos\": \"solo por 5.90 al mes\"}, {\"luisa\": \"creo que tengo un moco\"}, {\"juan\": \"yo me llamo ralph\"}]\n",
      "[{\"arturo\": \"eres frances?\"}, {\"pepe\": \"que tal estas?\"}, {\"arturo\": \"no me dejan rebajarlo mas\"}, {\"juan\": \"pero de que vas\"}, {\"quike\": \"patata\"}, {\"david\": \"no me dejan rebajarlo mas\"}, {\"carlos\": \"potaaaaatoooo\"}, {\"david\": \"no me dejan rebajarlo mas\"}, {\"pepe\": \"yo me llamo ralph\"}, {\"juan\": \"hola buenas\"}]\n"
     ]
    }
   ],
   "source": [
    "for topic in topics:\n",
    "    a=requests.get(f\"http://127.0.0.1:4000/chat/{topic}/list\").text"
   ]
  },
  {
   "cell_type": "code",
   "execution_count": 9,
   "metadata": {},
   "outputs": [
    {
     "data": {
      "text/plain": [
       "'{\\n  \"closest_users\": \"servants , secondneighbour , severalcitizens\"\\n}\\n'"
      ]
     },
     "execution_count": 9,
     "metadata": {},
     "output_type": "execute_result"
    }
   ],
   "source": [
    "requests.get(f\"http://127.0.0.1:4000/user/paco/recommend\").text"
   ]
  },
  {
   "cell_type": "code",
   "execution_count": null,
   "metadata": {},
   "outputs": [],
   "source": []
  }
 ],
 "metadata": {
  "kernelspec": {
   "display_name": "Python 3",
   "language": "python",
   "name": "python3"
  },
  "language_info": {
   "codemirror_mode": {
    "name": "ipython",
    "version": 3
   },
   "file_extension": ".py",
   "mimetype": "text/x-python",
   "name": "python",
   "nbconvert_exporter": "python",
   "pygments_lexer": "ipython3",
   "version": "3.6.9"
  }
 },
 "nbformat": 4,
 "nbformat_minor": 2
}
